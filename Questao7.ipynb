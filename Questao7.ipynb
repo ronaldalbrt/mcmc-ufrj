{
 "cells": [
  {
   "attachments": {},
   "cell_type": "markdown",
   "metadata": {},
   "source": [
    "# Questão 7"
   ]
  },
  {
   "cell_type": "code",
   "execution_count": 1,
   "metadata": {},
   "outputs": [],
   "source": [
    "import random\n",
    "import requests"
   ]
  },
  {
   "attachments": {},
   "cell_type": "markdown",
   "metadata": {},
   "source": [
    "## Item 2"
   ]
  },
  {
   "cell_type": "code",
   "execution_count": 2,
   "metadata": {},
   "outputs": [],
   "source": [
    "n = 100000\n",
    "k = 4\n",
    "N = sum([26**i for i in range(1, k+1)])\n",
    "\n",
    "# Gerar uma URL uniformemente com tamanho máximo k\n",
    "def generateRandomURLs(k):   \n",
    "    # Sorteia um tamanho aleatório de string, \n",
    "    # com peso de 26 para o tamanho 1, 26^2 para o tamanho 2, 26^3 para o tamanho 3, etc.\n",
    "    string_size = random.choices(list(range(1, k+1)), [26^i for i in range(k)])[0]\n",
    "\n",
    "    url_string = \" http://www.\"+''.join(random.choices(list('abcdefghijklmnopqrstuvwxyz'), k=string_size))+\".ufrj.br\"\n",
    "\n",
    "    return url_string\n",
    "\n",
    "# Verifica se determinada URL existe\n",
    "def exists(url):\n",
    "    try:\n",
    "        r = requests.get(url)\n",
    "        return r.status_code == 200\n",
    "    except:\n",
    "        return False\n",
    "\n",
    "url_list = [generateRandomURLs(k) for i in range(n)]\n",
    "existent_urls = [exists(url) for url in url_list]\n",
    "\n",
    "Q = N * (sum(existent_urls) / n)\n",
    "print(\"A estimativa para a quantidade de URL's sob o domínio ufrj.br é: \", Q)"
   ]
  }
 ],
 "metadata": {
  "kernelspec": {
   "display_name": "base",
   "language": "python",
   "name": "python3"
  },
  "language_info": {
   "codemirror_mode": {
    "name": "ipython",
    "version": 3
   },
   "file_extension": ".py",
   "mimetype": "text/x-python",
   "name": "python",
   "nbconvert_exporter": "python",
   "pygments_lexer": "ipython3",
   "version": "3.10.8"
  },
  "orig_nbformat": 4
 },
 "nbformat": 4,
 "nbformat_minor": 2
}
