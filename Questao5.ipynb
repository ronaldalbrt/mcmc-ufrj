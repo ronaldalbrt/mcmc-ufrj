{
 "cells": [
  {
   "attachments": {},
   "cell_type": "markdown",
   "metadata": {},
   "source": [
    "# Questão 5"
   ]
  },
  {
   "cell_type": "code",
   "execution_count": 7,
   "metadata": {},
   "outputs": [],
   "source": [
    "import matplotlib.pyplot as plt\n",
    "import random"
   ]
  },
  {
   "attachments": {},
   "cell_type": "markdown",
   "metadata": {},
   "source": [
    "## Item 1 - Gerando V"
   ]
  },
  {
   "cell_type": "code",
   "execution_count": 43,
   "metadata": {},
   "outputs": [
    {
     "name": "stdout",
     "output_type": "stream",
     "text": [
      "Valor de V gerado:  2\n"
     ]
    }
   ],
   "source": [
    "def generateV():\n",
    "    sum = 0\n",
    "    i = 0\n",
    "    while sum < 1:\n",
    "        u = random.random()\n",
    "        sum += u\n",
    "        i += 1\n",
    "    return i\n",
    "\n",
    "print(\"Valor de V gerado: \", generateV())"
   ]
  },
  {
   "attachments": {},
   "cell_type": "markdown",
   "metadata": {},
   "source": [
    "## Item 2 - Calculando o valor estimado de V"
   ]
  },
  {
   "cell_type": "code",
   "execution_count": 61,
   "metadata": {},
   "outputs": [
    {
     "name": "stdout",
     "output_type": "stream",
     "text": [
      "Valor Esperado estimado:  2.72099\n"
     ]
    }
   ],
   "source": [
    "n = 1000\n",
    "def estimateExpectedValue(n):\n",
    "    sum = 0\n",
    "    for i in range(n):\n",
    "        sum += generateV()\n",
    "    return sum/n\n",
    "\n",
    "print(\"Valor Esperado estimado: \", estimateExpectedValue(n))"
   ]
  },
  {
   "attachments": {},
   "cell_type": "markdown",
   "metadata": {},
   "source": [
    "## Item 3 - Construindo o gráfico"
   ]
  },
  {
   "cell_type": "code",
   "execution_count": 62,
   "metadata": {},
   "outputs": [],
   "source": [
    "n_values = [i for i in range(1, 100000)]\n",
    "expected_values = [estimateExpectedValue(n) for n in n_values]\n",
    "\n",
    "plt.ylabel(\"E[V]\")\n",
    "plt.xlabel(\"n\")\n",
    "plt.plot(n_values, expected_values)\n",
    "plt.show()"
   ]
  }
 ],
 "metadata": {
  "kernelspec": {
   "display_name": "base",
   "language": "python",
   "name": "python3"
  },
  "language_info": {
   "codemirror_mode": {
    "name": "ipython",
    "version": 3
   },
   "file_extension": ".py",
   "mimetype": "text/x-python",
   "name": "python",
   "nbconvert_exporter": "python",
   "pygments_lexer": "ipython3",
   "version": "3.10.8"
  },
  "orig_nbformat": 4
 },
 "nbformat": 4,
 "nbformat_minor": 2
}
