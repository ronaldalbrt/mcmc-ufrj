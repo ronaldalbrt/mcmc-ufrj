{
 "cells": [
  {
   "attachments": {},
   "cell_type": "markdown",
   "metadata": {},
   "source": [
    "# Questão 2"
   ]
  },
  {
   "cell_type": "code",
   "execution_count": 1,
   "metadata": {},
   "outputs": [],
   "source": [
    "import numpy as np"
   ]
  },
  {
   "attachments": {},
   "cell_type": "markdown",
   "metadata": {},
   "source": [
    "## Item 3 - Calcule numericamente a variação total entre π(t) e a distribuição estacionária"
   ]
  },
  {
   "cell_type": "code",
   "execution_count": 10,
   "metadata": {},
   "outputs": [
    {
     "data": {
      "text/plain": [
       "array([[0.5 , 0.25, 0.  , ..., 0.  , 0.  , 0.25],\n",
       "       [0.25, 0.5 , 0.25, ..., 0.  , 0.  , 0.  ],\n",
       "       [0.  , 0.25, 0.5 , ..., 0.  , 0.  , 0.  ],\n",
       "       ...,\n",
       "       [0.  , 0.  , 0.  , ..., 0.5 , 0.25, 0.  ],\n",
       "       [0.  , 0.  , 0.  , ..., 0.25, 0.5 , 0.25],\n",
       "       [0.25, 0.  , 0.  , ..., 0.  , 0.25, 0.5 ]])"
      ]
     },
     "execution_count": 10,
     "metadata": {},
     "output_type": "execute_result"
    }
   ],
   "source": [
    "def generate_anel():\n",
    "    P_anel = np.zeros((100,100))\n",
    "\n",
    "    for i in range(100):\n",
    "        P_anel[i][i] = 1/2\n",
    "        if i == 0:\n",
    "            P_anel[i][99] = 1/4\n",
    "            P_anel[i][i + 1] = 1/4\n",
    "        elif i == 99:\n",
    "            P_anel[i][i - 1] = 1/4\n",
    "            P_anel[i][0] = 1/4\n",
    "        else:\n",
    "            P_anel[i][i - 1] = 1/4\n",
    "            P_anel[i][i + 1] = 1/4\n",
    "\n",
    "    return P_anel\n"
   ]
  },
  {
   "cell_type": "code",
   "execution_count": 8,
   "metadata": {},
   "outputs": [
    {
     "data": {
      "text/plain": [
       "array([[1., 1., 1., ..., 1., 1., 1.],\n",
       "       [1., 2., 1., ..., 1., 1., 1.],\n",
       "       [1., 1., 1., ..., 1., 1., 1.],\n",
       "       ...,\n",
       "       [1., 1., 1., ..., 1., 1., 1.],\n",
       "       [1., 1., 1., ..., 1., 1., 1.],\n",
       "       [1., 1., 1., ..., 1., 1., 1.]])"
      ]
     },
     "execution_count": 8,
     "metadata": {},
     "output_type": "execute_result"
    }
   ],
   "source": [
    "a = np.ones((100,100))\n",
    "a[1][1] = 2\n",
    "a"
   ]
  }
 ],
 "metadata": {
  "kernelspec": {
   "display_name": "base",
   "language": "python",
   "name": "python3"
  },
  "language_info": {
   "codemirror_mode": {
    "name": "ipython",
    "version": 3
   },
   "file_extension": ".py",
   "mimetype": "text/x-python",
   "name": "python",
   "nbconvert_exporter": "python",
   "pygments_lexer": "ipython3",
   "version": "3.10.8"
  },
  "orig_nbformat": 4
 },
 "nbformat": 4,
 "nbformat_minor": 2
}
