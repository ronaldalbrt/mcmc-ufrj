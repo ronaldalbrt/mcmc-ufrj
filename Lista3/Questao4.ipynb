{
 "cells": [
  {
   "attachments": {},
   "cell_type": "markdown",
   "metadata": {},
   "source": [
    "# Questão 4"
   ]
  },
  {
   "attachments": {},
   "cell_type": "markdown",
   "metadata": {},
   "source": [
    "<p align=\"center\">\n",
    "\n",
    "<img src=\"img/q4.png\">\n",
    "\n",
    "</p>"
   ]
  },
  {
   "cell_type": "code",
   "execution_count": 1,
   "metadata": {},
   "outputs": [],
   "source": [
    "import random\n",
    "random.seed(10)"
   ]
  },
  {
   "attachments": {},
   "cell_type": "markdown",
   "metadata": {},
   "source": [
    "## Item 1 -  Construa um simulador para essa cadeia de Markov."
   ]
  },
  {
   "cell_type": "code",
   "execution_count": 2,
   "metadata": {},
   "outputs": [],
   "source": [
    "def simulate_lattice_walk(p, n_steps, initial_state=(1, 1)):\n",
    "    def next_state(u, current_state):\n",
    "        if u < p/2:\n",
    "            current_state = (current_state[0] + 1, current_state[1])\n",
    "        elif u < p:\n",
    "            current_state = (current_state[0], current_state[1] + 1)\n",
    "        elif u < (1 + p)/2:\n",
    "            if current_state[0] > 1:\n",
    "                current_state = (current_state[0] - 1, current_state[1])\n",
    "        else:\n",
    "            if current_state[1] > 1:\n",
    "                current_state = (current_state[0], current_state[1] - 1)\n",
    "\n",
    "        return current_state\n",
    "\n",
    "    current_state = initial_state\n",
    "    path = []\n",
    "    for _ in range(n_steps):\n",
    "        u = random.random()\n",
    "        current_state = next_state(u, current_state)\n",
    "        path.append(current_state+tuple())\n",
    "\n",
    "    return path"
   ]
  },
  {
   "attachments": {},
   "cell_type": "markdown",
   "metadata": {},
   "source": [
    "## Item 2 - Utilize o simulador para estimar a distribuição estacionária da origem."
   ]
  },
  {
   "cell_type": "code",
   "execution_count": 3,
   "metadata": {},
   "outputs": [
    {
     "name": "stdout",
     "output_type": "stream",
     "text": [
      "p = 0.25, Distribuição Estacionária no estado (1,1):  0.43927317819534584\n",
      "p = 0.35, Distribuição Estacionária no estado (1,1):  0.21237911412027083\n",
      "p = 0.45, Distribuição Estacionária no estado (1,1):  0.034378938524016245\n"
     ]
    }
   ],
   "source": [
    "def estimate_stationary_distribution(path):\n",
    "    stationary_dist = {}\n",
    "    first_visit = {}\n",
    "    n_visits = {}\n",
    "    for (i, state) in enumerate(path):\n",
    "        if not (state in first_visit):\n",
    "            first_visit[state] = i\n",
    "            n_visits[state] = 0\n",
    "        else:\n",
    "            n_visits[state] += 1\n",
    "            stationary_dist[state] = n_visits[state]/(i - first_visit[state])\n",
    "    \n",
    "    return stationary_dist\n",
    "\n",
    "sampled_path_25 = simulate_lattice_walk(0.25, 100000)\n",
    "sampled_path_35 = simulate_lattice_walk(0.35, 100000)\n",
    "sampled_path_45 = simulate_lattice_walk(0.45, 100000)\n",
    "\n",
    "stationary_distribution_25 = estimate_stationary_distribution(sampled_path_25)\n",
    "stationary_distribution_35 = estimate_stationary_distribution(sampled_path_35)\n",
    "stationary_distribution_45 = estimate_stationary_distribution(sampled_path_45)\n",
    "\n",
    "print(\"p = 0.25, Distribuição Estacionária no estado (1,1): \",stationary_distribution_25[(1,1)])\n",
    "print(\"p = 0.35, Distribuição Estacionária no estado (1,1): \",stationary_distribution_35[(1,1)])\n",
    "print(\"p = 0.45, Distribuição Estacionária no estado (1,1): \",stationary_distribution_45[(1,1)])"
   ]
  },
  {
   "attachments": {},
   "cell_type": "markdown",
   "metadata": {},
   "source": [
    "## Item 3 - Utilize o simulador para estimar d(t)."
   ]
  },
  {
   "cell_type": "code",
   "execution_count": 4,
   "metadata": {},
   "outputs": [
    {
     "name": "stdout",
     "output_type": "stream",
     "text": [
      "p = 0.25, t = 10, distância de Manhattan:  0.83804\n",
      "p = 0.25, t = 100, distância de Manhattan:  1.00336\n",
      "p = 0.25, t = 1000, distância de Manhattan:  1.00177\n",
      "p = 0.35, t = 10, distância de Manhattan:  1.43812\n",
      "p = 0.35, t = 100, distância de Manhattan:  2.32109\n",
      "p = 0.35, t = 1000, distância de Manhattan:  2.33246\n",
      "p = 0.45, t = 10, distância de Manhattan:  2.22606\n",
      "p = 0.45, t = 100, distância de Manhattan:  6.20362\n",
      "p = 0.45, t = 1000, distância de Manhattan:  8.92003\n"
     ]
    }
   ],
   "source": [
    "def average_manhattan_distance(t, p, n_samples, initial_state=(1, 1)):\n",
    "    sum = 0\n",
    "    for _ in range(n_samples):\n",
    "        X_t = simulate_lattice_walk(p, t, initial_state)[t - 1]\n",
    "        sum += X_t[0] - initial_state[0] + X_t[1] - initial_state[1]\n",
    "\n",
    "    return sum/n_samples\n",
    "\n",
    "print(\"p = 0.25, t = 10, distância de Manhattan: \", average_manhattan_distance(10, 0.25, 100000))\n",
    "print(\"p = 0.25, t = 100, distância de Manhattan: \", average_manhattan_distance(100, 0.25, 100000))\n",
    "print(\"p = 0.25, t = 1000, distância de Manhattan: \", average_manhattan_distance(1000, 0.25, 100000))\n",
    "print(\"p = 0.35, t = 10, distância de Manhattan: \", average_manhattan_distance(10, 0.35, 100000))\n",
    "print(\"p = 0.35, t = 100, distância de Manhattan: \", average_manhattan_distance(100, 0.35, 100000))\n",
    "print(\"p = 0.35, t = 1000, distância de Manhattan: \", average_manhattan_distance(1000, 0.35, 100000))\n",
    "print(\"p = 0.45, t = 10, distância de Manhattan: \", average_manhattan_distance(10, 0.45, 100000))\n",
    "print(\"p = 0.45, t = 100, distância de Manhattan: \", average_manhattan_distance(100, 0.45, 100000))\n",
    "print(\"p = 0.45, t = 1000, distância de Manhattan: \", average_manhattan_distance(1000, 0.45, 100000))"
   ]
  }
 ],
 "metadata": {
  "kernelspec": {
   "display_name": "base",
   "language": "python",
   "name": "python3"
  },
  "language_info": {
   "codemirror_mode": {
    "name": "ipython",
    "version": 3
   },
   "file_extension": ".py",
   "mimetype": "text/x-python",
   "name": "python",
   "nbconvert_exporter": "python",
   "pygments_lexer": "ipython3",
   "version": "3.10.8"
  },
  "orig_nbformat": 4
 },
 "nbformat": 4,
 "nbformat_minor": 2
}
