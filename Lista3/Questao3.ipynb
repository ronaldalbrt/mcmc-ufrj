{
 "cells": [
  {
   "attachments": {},
   "cell_type": "markdown",
   "metadata": {},
   "source": [
    "# Questão 3"
   ]
  },
  {
   "attachments": {},
   "cell_type": "markdown",
   "metadata": {},
   "source": [
    "<p align=\"center\">\n",
    "\n",
    "<img src=\"img/q3.png\">\n",
    "\n",
    "</p>"
   ]
  },
  {
   "cell_type": "code",
   "execution_count": 1,
   "metadata": {},
   "outputs": [],
   "source": [
    "import numpy as np"
   ]
  },
  {
   "attachments": {},
   "cell_type": "markdown",
   "metadata": {},
   "source": [
    "## Item 1 - Construa a cadeia de Markov deste processo"
   ]
  },
  {
   "cell_type": "code",
   "execution_count": 2,
   "metadata": {},
   "outputs": [],
   "source": [
    "def P(p):\n",
    "    return np.array([[1-p, p, 0, 0, 0, 0, 0, 0, 0, 0], \n",
    "                     [1-p, 0, p, 0, 0, 0, 0, 0, 0, 0],\n",
    "                     [1-p, 0, 0, p, 0, 0, 0, 0, 0, 0],\n",
    "                     [1-p, 0, 0, 0, p, 0, 0, 0, 0, 0],\n",
    "                     [1-p, 0, 0, 0, 0, p, 0, 0, 0, 0],\n",
    "                     [1-p, 0, 0, 0, 0, 0, p, 0, 0, 0],\n",
    "                     [1-p, 0, 0, 0, 0, 0, 0, p, 0, 0],\n",
    "                     [1-p, 0, 0, 0, 0, 0, 0, 0, p, 0],\n",
    "                     [1-p, 0, 0, 0, 0, 0, 0, 0, 0, p],\n",
    "                     [1-p, 0, 0, 0, 0, 0, 0, 0, 0, p]])"
   ]
  },
  {
   "attachments": {},
   "cell_type": "markdown",
   "metadata": {},
   "source": [
    "## Item 2 - Determine numericamente o vão espectral da cadeia de Markov"
   ]
  },
  {
   "cell_type": "code",
   "execution_count": 45,
   "metadata": {},
   "outputs": [
    {
     "name": "stdout",
     "output_type": "stream",
     "text": [
      "p = 0.25, Vão Espectral:  0.995098269164335\n",
      "p = 0.5, Vão Espectral:  0.9913481641811251\n",
      "p = 0.75, Vão Espectral:  0.988177094071795\n"
     ]
    }
   ],
   "source": [
    "def spectral_gap(P):\n",
    "    eigenvalues = np.linalg.eigvals(P.T)\n",
    "    eigenvalues = np.sort(eigenvalues)\n",
    "    return 1 - np.abs(eigenvalues[-2])\n",
    "\n",
    "print(\"p = 0.25, Vão Espectral: \",spectral_gap(P(0.25)))\n",
    "print(\"p = 0.5, Vão Espectral: \",spectral_gap(P(0.5)))\n",
    "print(\"p = 0.75, Vão Espectral: \",spectral_gap(P(0.75)))"
   ]
  },
  {
   "attachments": {},
   "cell_type": "markdown",
   "metadata": {},
   "source": [
    "## Item 3 - Determine numericamente a distribuição estacionária"
   ]
  },
  {
   "cell_type": "code",
   "execution_count": 60,
   "metadata": {},
   "outputs": [
    {
     "name": "stdout",
     "output_type": "stream",
     "text": [
      "p = 0.25, Estado com menor probabilidade:  10\n",
      "p = 0.5, Estado com menor probabilidade:  9\n",
      "p = 0.75, Estado com menor probabilidade:  9\n"
     ]
    }
   ],
   "source": [
    "def stationary_distribution(P):\n",
    "    eigenvalues, eigenvectors = np.linalg.eig(P.T)\n",
    "    eigenvectors = eigenvectors[:, np.isclose(eigenvalues, 1)]\n",
    "    stationary = eigenvectors / eigenvectors.sum()\n",
    "    return stationary[:, 0]\n",
    "\n",
    "print(\"p = 0.25, Estado com menor probabilidade: \", np.argmin(stationary_distribution(P(0.25))) + 1)\n",
    "print(\"p = 0.5, Estado com menor probabilidade: \", np.argmin(stationary_distribution(P(0.5))) + 1)\n",
    "print(\"p = 0.75, Estado com menor probabilidade: \", np.argmin(stationary_distribution(P(0.75))) + 1)"
   ]
  }
 ],
 "metadata": {
  "kernelspec": {
   "display_name": "base",
   "language": "python",
   "name": "python3"
  },
  "language_info": {
   "codemirror_mode": {
    "name": "ipython",
    "version": 3
   },
   "file_extension": ".py",
   "mimetype": "text/x-python",
   "name": "python",
   "nbconvert_exporter": "python",
   "pygments_lexer": "ipython3",
   "version": "3.10.8"
  },
  "orig_nbformat": 4
 },
 "nbformat": 4,
 "nbformat_minor": 2
}
