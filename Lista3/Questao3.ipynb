{
 "cells": [
  {
   "attachments": {},
   "cell_type": "markdown",
   "metadata": {},
   "source": [
    "# Questão 3"
   ]
  },
  {
   "attachments": {},
   "cell_type": "markdown",
   "metadata": {},
   "source": [
    "<p align=\"center\">\n",
    "\n",
    "<img src=\"img/q3.png\">\n",
    "\n",
    "</p>"
   ]
  },
  {
   "cell_type": "code",
   "execution_count": 4,
   "metadata": {},
   "outputs": [],
   "source": [
    "import numpy as np"
   ]
  },
  {
   "attachments": {},
   "cell_type": "markdown",
   "metadata": {},
   "source": [
    "## Item 1 - Construa a cadeia de Markov deste processo"
   ]
  },
  {
   "cell_type": "code",
   "execution_count": 5,
   "metadata": {},
   "outputs": [],
   "source": [
    "def P(p):\n",
    "    return np.array([[1-p, p, 0, 0, 0, 0, 0, 0, 0, 0], \n",
    "                     [1-p, 0, p, 0, 0, 0, 0, 0, 0, 0],\n",
    "                     [1-p, 0, 0, p, 0, 0, 0, 0, 0, 0],\n",
    "                     [1-p, 0, 0, 0, p, 0, 0, 0, 0, 0],\n",
    "                     [1-p, 0, 0, 0, 0, p, 0, 0, 0, 0],\n",
    "                     [1-p, 0, 0, 0, 0, 0, p, 0, 0, 0],\n",
    "                     [1-p, 0, 0, 0, 0, 0, 0, p, 0, 0],\n",
    "                     [1-p, 0, 0, 0, 0, 0, 0, 0, p, 0],\n",
    "                     [1-p, 0, 0, 0, 0, 0, 0, 0, 0, p],\n",
    "                     [1-p, 0, 0, 0, 0, 0, 0, 0, 0, p]])"
   ]
  },
  {
   "attachments": {},
   "cell_type": "markdown",
   "metadata": {},
   "source": [
    "## Item 2 - Determine numericamente o vão espectral da cadeia de Markov"
   ]
  },
  {
   "cell_type": "code",
   "execution_count": 6,
   "metadata": {},
   "outputs": [
    {
     "name": "stdout",
     "output_type": "stream",
     "text": [
      "p = 0.25, Vão Espectral:  0.6000000000058211\n",
      "p = 0.5, Vão Espectral:  0.33333587646484364\n",
      "p = 0.75, Vão Espectral:  0.14768946581170894\n"
     ]
    }
   ],
   "source": [
    "def first_eigen(P):\n",
    "    first_eigenvector = np.ones((1,10))/10\n",
    "    current_eigenvector = np.zeros((1,10))\n",
    "    while not np.allclose(first_eigenvector, current_eigenvector):\n",
    "        current_eigenvector = first_eigenvector\n",
    "        first_eigenvector = current_eigenvector@P \n",
    "\n",
    "    return (first_eigenvector@P/first_eigenvector)[0, 0], first_eigenvector \n",
    "\n",
    "def spectral_gap(P):\n",
    "    first_eigenvalue, first_eigenvector = first_eigen(P)\n",
    "\n",
    "    new_P = P - first_eigenvector.T@first_eigenvector\n",
    "    second_eigenvalue, second_eigenvector = first_eigen(new_P)\n",
    "\n",
    "    return 1 - second_eigenvalue\n",
    "\n",
    "print(\"p = 0.25, Vão Espectral: \",spectral_gap(P(0.25)))\n",
    "print(\"p = 0.5, Vão Espectral: \",spectral_gap(P(0.5)))\n",
    "print(\"p = 0.75, Vão Espectral: \",spectral_gap(P(0.75)))"
   ]
  },
  {
   "attachments": {},
   "cell_type": "markdown",
   "metadata": {},
   "source": [
    "## Item 3 - Determine numericamente a distribuição estacionária"
   ]
  },
  {
   "cell_type": "code",
   "execution_count": 76,
   "metadata": {},
   "outputs": [
    {
     "name": "stdout",
     "output_type": "stream",
     "text": [
      "p = 0.25, Estado com menor probabilidade:  10\n",
      "p = 0.5, Estado com menor probabilidade:  9\n",
      "p = 0.75, Estado com menor probabilidade:  9\n"
     ]
    }
   ],
   "source": [
    "def lowest_prob_state(P):\n",
    "    first_eigenvalue, first_eigenvector = first_eigen(P)\n",
    "    return np.argmin(first_eigenvector) + 1\n",
    "\n",
    "print(\"p = 0.25, Estado com menor probabilidade: \",lowest_prob_state(P(0.25)))\n",
    "print(\"p = 0.5, Estado com menor probabilidade: \",lowest_prob_state(P(0.5)))\n",
    "print(\"p = 0.75, Estado com menor probabilidade: \",lowest_prob_state(P(0.75)))"
   ]
  },
  {
   "cell_type": "code",
   "execution_count": 8,
   "metadata": {},
   "outputs": [
    {
     "ename": "ValueError",
     "evalue": "matmul: Input operand 1 does not have enough dimensions (has 0, gufunc core with signature (n?,k),(k,m?)->(n?,m?) requires 1)",
     "output_type": "error",
     "traceback": [
      "\u001b[0;31m---------------------------------------------------------------------------\u001b[0m",
      "\u001b[0;31mValueError\u001b[0m                                Traceback (most recent call last)",
      "Cell \u001b[0;32mIn[8], line 1\u001b[0m\n\u001b[0;32m----> 1\u001b[0m P(\u001b[39m0.25\u001b[39;49m)\u001b[39m@first_eigen\u001b[39;49m(P(\u001b[39m0.25\u001b[39;49m))[\u001b[39m0\u001b[39;49m]\n",
      "\u001b[0;31mValueError\u001b[0m: matmul: Input operand 1 does not have enough dimensions (has 0, gufunc core with signature (n?,k),(k,m?)->(n?,m?) requires 1)"
     ]
    }
   ],
   "source": [
    "first_eigen(P(0.25))[0]@P(0.25)"
   ]
  }
 ],
 "metadata": {
  "kernelspec": {
   "display_name": "base",
   "language": "python",
   "name": "python3"
  },
  "language_info": {
   "codemirror_mode": {
    "name": "ipython",
    "version": 3
   },
   "file_extension": ".py",
   "mimetype": "text/x-python",
   "name": "python",
   "nbconvert_exporter": "python",
   "pygments_lexer": "ipython3",
   "version": "3.10.8"
  },
  "orig_nbformat": 4
 },
 "nbformat": 4,
 "nbformat_minor": 2
}
