{
 "cells": [
  {
   "attachments": {},
   "cell_type": "markdown",
   "metadata": {},
   "source": [
    "# Questão 2"
   ]
  },
  {
   "attachments": {},
   "cell_type": "markdown",
   "metadata": {},
   "source": [
    "<p align=\"center\">\n",
    "\n",
    "<img src=\"img/q2.png\">\n",
    "\n",
    "</p>"
   ]
  },
  {
   "cell_type": "code",
   "execution_count": null,
   "metadata": {},
   "outputs": [],
   "source": [
    "from scipy import stats"
   ]
  },
  {
   "attachments": {},
   "cell_type": "markdown",
   "metadata": {},
   "source": [
    "## Exercício 2"
   ]
  },
  {
   "cell_type": "code",
   "execution_count": null,
   "metadata": {},
   "outputs": [],
   "source": [
    "def sample_x_given_k(k, n, p1, p2):\n",
    "    if k == 1:\n",
    "        return stats.binom.rvs(n, p1)\n",
    "    elif k ==2:\n",
    "        return stats.binom.rvs(n, p2)\n",
    "\n",
    "def sample_k_given_x(x, n, p1, p2, alpha):\n",
    "    # Amostrar distribuição uniforme u [0,1]\n",
    "    u = stats.uniform.rvs()\n",
    "\n",
    "    # Probabilide de que K = 1\n",
    "    constante_normalizacao = alpha*stats.binom.pmf(x, n, p1) + (1 - alpha)*stats.binom.pmf(x, n, p2)\n",
    "    p_k1 = (alpha*stats.binom.pmf(x, n, p1))/(constante_normalizacao)\n",
    "\n",
    "    # Se u < p_k1 retorna K = 1, caso contrário K = 2\n",
    "    if u < p_k1:\n",
    "        return 1\n",
    "    else:\n",
    "        return 2"
   ]
  },
  {
   "cell_type": "code",
   "execution_count": null,
   "metadata": {},
   "outputs": [],
   "source": [
    "def gibbs_sampler(initial_x, initial_k, T, n, p1, p2, alpha):\n",
    "    x = initial_x\n",
    "    k = initial_k\n",
    "    for i in range(T):\n",
    "        i = stats.randint(0,2).rvs()\n",
    "        if i == 1:\n",
    "            x = sample_x_given_k(k, n, p1, p2)\n",
    "        else:\n",
    "            k = sample_k_given_x(x, n, p1, p2, alpha)\n",
    "\n",
    "    return x, k\n",
    "    \n",
    "gibbs_sampler(1, 1, 1000, 2, 0.1, 0.8, 0.3)"
   ]
  }
 ],
 "metadata": {
  "kernelspec": {
   "display_name": "base",
   "language": "python",
   "name": "python3"
  },
  "language_info": {
   "codemirror_mode": {
    "name": "ipython",
    "version": 3
   },
   "file_extension": ".py",
   "mimetype": "text/x-python",
   "name": "python",
   "nbconvert_exporter": "python",
   "pygments_lexer": "ipython3",
   "version": "3.10.8"
  },
  "orig_nbformat": 4
 },
 "nbformat": 4,
 "nbformat_minor": 2
}
