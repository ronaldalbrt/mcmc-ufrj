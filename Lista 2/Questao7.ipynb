{
 "cells": [
  {
   "attachments": {},
   "cell_type": "markdown",
   "metadata": {},
   "source": [
    "# Questão 7"
   ]
  },
  {
   "cell_type": "code",
   "execution_count": null,
   "metadata": {},
   "outputs": [],
   "source": [
    "import random\n",
    "import requests\n",
    "import matplotlib.pyplot as plt"
   ]
  },
  {
   "attachments": {},
   "cell_type": "markdown",
   "metadata": {},
   "source": [
    "## Item 2"
   ]
  },
  {
   "cell_type": "code",
   "execution_count": null,
   "metadata": {},
   "outputs": [],
   "source": [
    "n = 1000\n",
    "k = 4\n",
    "N = sum([26**i for i in range(1, k+1)])\n",
    "\n",
    "# Gerar uma URL uniformemente com tamanho máximo k\n",
    "def generateRandomURLs(k):   \n",
    "    # Sorteia um tamanho aleatório de string, \n",
    "    # com peso de 26 para o tamanho 1, 26^2 para o tamanho 2, 26^3 para o tamanho 3, etc.\n",
    "    string_size = random.choices(list(range(1, k+1)), [26^i for i in range(k)])[0]\n",
    "\n",
    "    url_string = \" http://www.\"+''.join(random.choices(list('abcdefghijklmnopqrstuvwxyz'), k=string_size))+\".ufrj.br\"\n",
    "\n",
    "    return url_string\n",
    "\n",
    "# Verifica se determinada URL existe\n",
    "def exists(url):\n",
    "    try:\n",
    "        r = requests.get(url)\n",
    "        return r.status_code == 200\n",
    "    except:\n",
    "        return False\n",
    "\n",
    "def estimateQ(n, k):\n",
    "    url_list = [generateRandomURLs(k) for i in range(n)]\n",
    "    existent_urls = [exists(url) for url in url_list]\n",
    "\n",
    "    Q = N * (sum(existent_urls) / n)\n",
    "\n",
    "    return Q\n",
    "\n",
    "print(\"A estimativa para a quantidade de URLs sob o domínio ufrj.br é: \", estimateQ(n, k))"
   ]
  },
  {
   "attachments": {},
   "cell_type": "markdown",
   "metadata": {},
   "source": [
    "## Item 3"
   ]
  },
  {
   "cell_type": "code",
   "execution_count": null,
   "metadata": {},
   "outputs": [],
   "source": [
    "n_values = [i for i in range(1,10**4 + 1)]\n",
    "Q_values = [estimateQ(n, k) for n in n_values]\n",
    "\n",
    "plt.ylabel(\"Q\")\n",
    "plt.xlabel(\"n\")\n",
    "plt.plot(n_values, Q_values)\n",
    "plt.show()"
   ]
  }
 ],
 "metadata": {
  "kernelspec": {
   "display_name": "base",
   "language": "python",
   "name": "python3"
  },
  "language_info": {
   "codemirror_mode": {
    "name": "ipython",
    "version": 3
   },
   "file_extension": ".py",
   "mimetype": "text/x-python",
   "name": "python",
   "nbconvert_exporter": "python",
   "pygments_lexer": "ipython3",
   "version": "3.10.8"
  },
  "orig_nbformat": 4
 },
 "nbformat": 4,
 "nbformat_minor": 2
}
