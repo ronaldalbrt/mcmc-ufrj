{
 "cells": [
  {
   "attachments": {},
   "cell_type": "markdown",
   "metadata": {},
   "source": [
    "# Questão 9"
   ]
  },
  {
   "cell_type": "code",
   "execution_count": null,
   "metadata": {},
   "outputs": [],
   "source": [
    "import math\n",
    "import random\n",
    "import matplotlib.pyplot as plt"
   ]
  },
  {
   "attachments": {},
   "cell_type": "markdown",
   "metadata": {},
   "source": [
    "## Item 1 - Estimando o valor da Integral de g(x) = e^(-x^2)"
   ]
  },
  {
   "cell_type": "code",
   "execution_count": null,
   "metadata": {},
   "outputs": [],
   "source": [
    "# Definição da função g(x)\n",
    "def g(x):    \n",
    "    return math.e**(-x**2)\n",
    "\n",
    "# Integração de g(x) pelo método de Monte Carlo\n",
    "def MonteCarloIntegration(n, func):\n",
    "    sum = 0\n",
    "    \n",
    "    for i in range(n):\n",
    "        u = random.random()\n",
    "        sum += func(u)\n",
    "\n",
    "    return sum/n\n",
    "\n",
    "print(\"Valor estimado para a integral de g(x) = e^(-x^2): \",MonteCarloIntegration(1000, g))"
   ]
  },
  {
   "attachments": {},
   "cell_type": "markdown",
   "metadata": {},
   "source": [
    "## Item 2 - Estimando o valor da Integral de g(x) = e^(-x^2), com Importance Sampling e h(x) = Ae^(-x)"
   ]
  },
  {
   "cell_type": "code",
   "execution_count": null,
   "metadata": {},
   "outputs": [],
   "source": [
    "# Definição da função h(x)\n",
    "def h(x):\n",
    "    return math.e**-x*(math.e/(math.e - 1))\n",
    "\n",
    "# Função inversa de h(x) para gerar amostras da distribuição h(x)\n",
    "def inverse_h(x):\n",
    "    return 1 - math.log(math.e - x*(math.e - 1))\n",
    "\n",
    "# Integração de g(x) pelo método de Importance Sampling\n",
    "def importanceSamplingIntegration(n, g, h, inverse_h):\n",
    "    sum = 0\n",
    "    \n",
    "    for i in range(n):\n",
    "        u = random.random()\n",
    "        sample_from_h = inverse_h(u)\n",
    "        sum += g(sample_from_h)/h(sample_from_h)\n",
    "\n",
    "    return sum/n\n",
    "\n",
    "print(\"Estimação para a integral de g(x): \",importanceSamplingIntegration(1000, g, h, inverse_h))"
   ]
  },
  {
   "attachments": {},
   "cell_type": "markdown",
   "metadata": {},
   "source": [
    "## Item 3 - Construindo os gráficos"
   ]
  },
  {
   "cell_type": "code",
   "execution_count": null,
   "metadata": {},
   "outputs": [],
   "source": [
    "I = 0.7468241328124270253994674361318530053544996868126063290276544989\n",
    "\n",
    "n_values = [ 10**(i + 1) for i in range(6)]\n",
    "\n",
    "\n",
    "plt.ylabel(\"Erro relativo\")\n",
    "plt.xlabel(\"ln(n)\")\n",
    "plt.plot([math.log(n) for n in n_values], [abs(MonteCarloIntegration(n, g) - I)/I for n in n_values], label=\"Monte Carlo\")\n",
    "plt.plot([math.log(n) for n in n_values], [abs(importanceSamplingIntegration(n, g, h, inverse_h)- I)/I for n in n_values], label=\"Importance Sampling\")\n",
    "plt.legend()\n",
    "plt.show()"
   ]
  }
 ],
 "metadata": {
  "kernelspec": {
   "display_name": "base",
   "language": "python",
   "name": "python3"
  },
  "language_info": {
   "codemirror_mode": {
    "name": "ipython",
    "version": 3
   },
   "file_extension": ".py",
   "mimetype": "text/x-python",
   "name": "python",
   "nbconvert_exporter": "python",
   "pygments_lexer": "ipython3",
   "version": "3.10.8"
  },
  "orig_nbformat": 4
 },
 "nbformat": 4,
 "nbformat_minor": 2
}
